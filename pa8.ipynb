{
 "cells": [
  {
   "cell_type": "markdown",
   "id": "9c442191",
   "metadata": {},
   "source": [
    "### Q1. What are the two latest user-defined exception constraints in Python 3.X?\n",
    "\n",
    "All user-defined exceptions should be derived from the built-in BaseException class or its subclasses. This means that all user-defined exceptions should inherit from the BaseException class or one of its subclasses, such as Exception or ArithmeticError.\n",
    "\n",
    "All user-defined exceptions should be derived from the built-in Exception class or its subclasses. This means that all user-defined exceptions should inherit from the Exception class or one of its subclasses. This is because the Exception class is the base class for all built-in, non-system-exiting exceptions.\n",
    "\n",
    "In summary, the two latest user-defined exception constraints in Python 3.X are: user-defined exceptions should be derived from the built-in BaseException or Exception class or its subclasses, and all user-defined exceptions should be derived from the built-in Exception class or its subclasses."
   ]
  },
  {
   "cell_type": "markdown",
   "id": "d57e7b34",
   "metadata": {},
   "source": [
    "### Q2. How are class-based exceptions that have been raised matched to handlers?\n",
    "\n",
    "When an exception is raised, the interpreter looks for a matching \"catch\" block in the current function and then in the calling function and so on up the call stack. If a matching \"catch\" block is found, the code in that block is executed. If no matching \"catch\" block is found, the interpreter looks for a global handler for the exception. If no global handler is found, the program is terminated.\n",
    "\n",
    "The matching process uses the class hierarchy of the exception classes to determine if a catch block is a match for the exception that was raised. The interpreter checks if the exception class of the raised exception is a subclass of the exception class specified in the catch block. If it is, the catch block is considered a match, and the exception is passed to that block for handling.\n"
   ]
  },
  {
   "cell_type": "markdown",
   "id": "9d15bce3",
   "metadata": {},
   "source": [
    "#### Q3. Describe two methods for attaching context information to exception artefacts.\n",
    "\n",
    "raise MyException(\"Something went wrong\", \"context information\")\n",
    "++++++++++++++++++++++++++++++++++++++++++++++++++++++++++++++++++++++++++++++++++++++++++++++++++++++++++++++++++++++++++++++++\n",
    "with contextlib.contextmanager(lambda: (yield {\"context_information\": \"value\"})()) as extra_context:\n",
    "    # code that might raise an exception here\n",
    "    extra_context[\"context_information\"] = \"new value\"\n",
    "\n"
   ]
  },
  {
   "cell_type": "markdown",
   "id": "c4c6d096",
   "metadata": {},
   "source": [
    "### Q4. Describe two methods for specifying the text of an exception objecs error message.\n",
    "\n",
    "raise MyException(\"Something went wrong\")\n",
    "++++++++++++++++++++++++++++++++++++++++++++++++++++++++++++++++++++++++++++++++++++++++++++++++++++++++++++++++++++++++++++++++\n",
    "\n",
    "class MyException(Exception):\n",
    "    def __init__(self, message):\n",
    "        self.message = message\n",
    "\n",
    "raise MyException(\"Something went wrong\")\n"
   ]
  },
  {
   "cell_type": "markdown",
   "id": "3e775ff2",
   "metadata": {},
   "source": [
    "### Q5. Why do you no longer use string-based exceptions?\n",
    "\n",
    "String-based exceptions are generally considered to be less robust and less maintainable than class-based exceptions. Some of the reasons why they are no longer used include:\n",
    "\n",
    "String-based exceptions do not provide any information about the type of exception that was raised, making it difficult to handle them in a consistent way.\n",
    "\n",
    "String-based exceptions are difficult to search for in large code bases, since they are just strings and cannot be easily located using tools such as grep or an IDE's search functionality.\n",
    "\n",
    "It's easy to misspell the string of an exception, causing bugs where an exception is not handled correctly.\n",
    "\n",
    "It's hard to catch an exception raised by an external library, string-based exceptions can't be subclassed so you can't catch them using except statement.\n",
    "\n",
    "Class-based exceptions provide a more structured way to handle errors, making it easier to separate the handling of different types of errors, provide more context when debugging, and allow to add additional functionality to the exception objects.\n",
    "\n",
    "In summary, class-based exceptions are considered to be more robust and maintainable than string-based exceptions, and are generally considered to be the preferred method of raising and handling exceptions in Python."
   ]
  },
  {
   "cell_type": "code",
   "execution_count": null,
   "id": "88395fd3",
   "metadata": {},
   "outputs": [],
   "source": []
  }
 ],
 "metadata": {
  "kernelspec": {
   "display_name": "Python 3 (ipykernel)",
   "language": "python",
   "name": "python3"
  },
  "language_info": {
   "codemirror_mode": {
    "name": "ipython",
    "version": 3
   },
   "file_extension": ".py",
   "mimetype": "text/x-python",
   "name": "python",
   "nbconvert_exporter": "python",
   "pygments_lexer": "ipython3",
   "version": "3.9.12"
  }
 },
 "nbformat": 4,
 "nbformat_minor": 5
}
